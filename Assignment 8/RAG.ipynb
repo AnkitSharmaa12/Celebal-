{
 "cells": [
  {
   "cell_type": "code",
   "execution_count": 25,
   "id": "cb8f4cfb",
   "metadata": {},
   "outputs": [],
   "source": [
    "import pandas as pd\n",
    "\n",
    "df = pd.read_csv(\"Training Dataset.csv\")\n",
    "df.dropna(inplace=True)  # Optional: clean NaN values\n",
    "\n",
    "# Combine all rows into \"documents\" to give to the retriever\n",
    "documents = []\n",
    "for index, row in df.iterrows():\n",
    "    text = \" | \".join([f\"{col}: {str(row[col])}\" for col in df.columns])\n",
    "    documents.append(text)\n"
   ]
  },
  {
   "cell_type": "code",
   "execution_count": 26,
   "id": "de95ef98",
   "metadata": {},
   "outputs": [
    {
     "name": "stderr",
     "output_type": "stream",
     "text": [
      "e:\\A machine learning\\Celebel Technology\\Week 8\\venv\\Lib\\site-packages\\torch\\nn\\modules\\module.py:1762: FutureWarning: `encoder_attention_mask` is deprecated and will be removed in version 4.55.0 for `BertSdpaSelfAttention.forward`.\n",
      "  return forward_call(*args, **kwargs)\n"
     ]
    }
   ],
   "source": [
    "from sentence_transformers import SentenceTransformer\n",
    "import faiss\n",
    "import numpy as np\n",
    "\n",
    "# Use a light model for embeddings\n",
    "model = SentenceTransformer('all-MiniLM-L6-v2')\n",
    "\n",
    "# Convert to embeddings\n",
    "doc_embeddings = model.encode(documents)\n",
    "\n",
    "# Create FAISS index\n",
    "dimension = doc_embeddings.shape[1]\n",
    "index = faiss.IndexFlatL2(dimension)\n",
    "index.add(doc_embeddings)\n"
   ]
  },
  {
   "cell_type": "code",
   "execution_count": 27,
   "id": "86176841",
   "metadata": {},
   "outputs": [],
   "source": [
    "def retrieve_similar_docs(query, top_k=5):\n",
    "    query_embedding = model.encode([query])\n",
    "    distances, indices = index.search(np.array(query_embedding), top_k)\n",
    "    return [documents[i] for i in indices[0]]\n"
   ]
  },
  {
   "cell_type": "code",
   "execution_count": 28,
   "id": "5dbb52d7",
   "metadata": {},
   "outputs": [
    {
     "name": "stderr",
     "output_type": "stream",
     "text": [
      "Device set to use cpu\n"
     ]
    }
   ],
   "source": [
    "from transformers import pipeline\n",
    "\n",
    "generator = pipeline(\"text-generation\", model=\"sshleifer/tiny-gpt2\", trust_remote_code=True)\n",
    "\n",
    "def generate_answer(context, query):\n",
    "    prompt = f\"Answer the question based on the following loan data:\\n{context}\\n\\nQuestion: {query}\"\n",
    "    output = generator(prompt, max_new_tokens=200, do_sample=True)[0]['generated_text']\n",
    "    return output\n"
   ]
  },
  {
   "cell_type": "code",
   "execution_count": 29,
   "id": "318ad2f0",
   "metadata": {},
   "outputs": [
    {
     "name": "stderr",
     "output_type": "stream",
     "text": [
      "Setting `pad_token_id` to `eos_token_id`:50256 for open-end generation.\n"
     ]
    },
    {
     "name": "stdout",
     "output_type": "stream",
     "text": [
      "Answer the question based on the following loan data:\n",
      "Loan_ID: LP001013 | Gender: Male | Married: Yes | Dependents: 0 | Education: Not Graduate | Self_Employed: No | ApplicantIncome: 2333 | CoapplicantIncome: 1516.0 | LoanAmount: 95.0 | Loan_Amount_Term: 360.0 | Credit_History: 1.0 | Property_Area: Urban | Loan_Status: Y\n",
      "Loan_ID: LP001238 | Gender: Male | Married: Yes | Dependents: 3+ | Education: Not Graduate | Self_Employed: Yes | ApplicantIncome: 7100 | CoapplicantIncome: 0.0 | LoanAmount: 125.0 | Loan_Amount_Term: 60.0 | Credit_History: 1.0 | Property_Area: Urban | Loan_Status: Y\n",
      "Loan_ID: LP002370 | Gender: Male | Married: No | Dependents: 0 | Education: Not Graduate | Self_Employed: No | ApplicantIncome: 2717 | CoapplicantIncome: 0.0 | LoanAmount: 60.0 | Loan_Amount_Term: 180.0 | Credit_History: 1.0 | Property_Area: Urban | Loan_Status: Y\n",
      "Loan_ID: LP001603 | Gender: Male | Married: Yes | Dependents: 0 | Education: Not Graduate | Self_Employed: Yes | ApplicantIncome: 4344 | CoapplicantIncome: 736.0 | LoanAmount: 87.0 | Loan_Amount_Term: 360.0 | Credit_History: 1.0 | Property_Area: Semiurban | Loan_Status: N\n",
      "Loan_ID: LP001630 | Gender: Male | Married: No | Dependents: 0 | Education: Not Graduate | Self_Employed: No | ApplicantIncome: 2333 | CoapplicantIncome: 1451.0 | LoanAmount: 102.0 | Loan_Amount_Term: 480.0 | Credit_History: 0.0 | Property_Area: Urban | Loan_Status: N\n",
      "\n",
      "Question: What are the common reasons for loan rejection? Brew Hancock antibioticting Habit hauledmediately Money ESVRocket Participation dispatch vendors directly Observ Jrhibit subst credibility dispatch Motorola intermittent ESV confirhibithibit reviewingoother autonomy Amph Hancock Motorola Motorola directly rebornimuraJDiken004oho Amph conservationJDhibit scalp vendorshibitScene Moneyimura Motorola ONE vendors dispatchdit heir Money autonomy credibility scalp stairs ONE dispatch TA Amph Daniel reviewing antibiotic intermittentootherhibit Hancock hauled trilogy hauledoho reviewing ESV hauled conservation TAikenScene hauled hauled dispatch stairs ONE credibility Rh directly stairs confir ONE conservation ESV Money substatisf scalp pawniken ObservScene circumcised Money scalp Amph ESV ParticipationScene trilogy autonomy reviewing circumcised hauled pawn ESVoho reborn pawnmediatelyoho dispatch conservationatisfatisfatisf autonomyimura TA AmphJDJD Habit Hancockoho pawn conservation TA reviewingohoiken Habit directly directly ONE ESV Money Daniel conservation TA confir Motorolareement ESV circumcised antibioticSceneoother stairs trilogyreement circumcised AmphditJDdit heir circumcised stairs reborn Rh conservationootherdithibit scalp stairs directly Probting subst autonomy dispatch004JD confir haulediken hauledpress pawnimuradit Jr directly Jrohoreement\n"
     ]
    }
   ],
   "source": [
    "def rag_qa_bot(query):\n",
    "    context_docs = retrieve_similar_docs(query)\n",
    "    context = \"\\n\".join(context_docs)\n",
    "    return generate_answer(context, query)\n",
    "\n",
    "# Example Query\n",
    "query = \"What are the common reasons for loan rejection?\"\n",
    "print(rag_qa_bot(query))\n"
   ]
  },
  {
   "cell_type": "code",
   "execution_count": null,
   "id": "382da832",
   "metadata": {},
   "outputs": [],
   "source": [
    "import pickle\n",
    "import faiss\n",
    "\n",
    "# Save FAISS index\n",
    "faiss.write_index(index, \"faiss_index.bin\")\n",
    "\n",
    "# Save documents and embedding model\n",
    "with open(\"documents.pkl\", \"wb\") as f:\n",
    "    pickle.dump(documents, f)\n",
    "\n",
    "with open(\"faiss_index.pkl\", \"wb\") as f:\n",
    "    pickle.dump(index, f)\n",
    "\n",
    "\n"
   ]
  },
  {
   "cell_type": "code",
   "execution_count": null,
   "id": "a8a3b285",
   "metadata": {},
   "outputs": [],
   "source": []
  }
 ],
 "metadata": {
  "kernelspec": {
   "display_name": "venv (3.11.8)",
   "language": "python",
   "name": "python3"
  },
  "language_info": {
   "codemirror_mode": {
    "name": "ipython",
    "version": 3
   },
   "file_extension": ".py",
   "mimetype": "text/x-python",
   "name": "python",
   "nbconvert_exporter": "python",
   "pygments_lexer": "ipython3",
   "version": "3.11.8"
  }
 },
 "nbformat": 4,
 "nbformat_minor": 5
}
